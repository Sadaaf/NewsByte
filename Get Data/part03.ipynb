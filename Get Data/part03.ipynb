{
 "cells": [
  {
   "cell_type": "code",
   "execution_count": 46,
   "metadata": {},
   "outputs": [],
   "source": [
    "from urllib.request import urlopen\n",
    "from bs4 import BeautifulSoup\n",
    "\n",
    "html = urlopen('https://www.thedailystar.net/todays-news')"
   ]
  },
  {
   "cell_type": "code",
   "execution_count": 47,
   "metadata": {},
   "outputs": [],
   "source": [
    "bs = BeautifulSoup(html,'html.parser')"
   ]
  },
  {
   "cell_type": "code",
   "execution_count": 48,
   "metadata": {},
   "outputs": [],
   "source": [
    "all_news = set()\n",
    "table_data = bs.find_all('tr')"
   ]
  },
  {
   "cell_type": "code",
   "execution_count": 49,
   "metadata": {},
   "outputs": [],
   "source": [
    "for data in table_data:\n",
    "    all_news.add(data.find('a')['href'])"
   ]
  },
  {
   "cell_type": "code",
   "execution_count": 50,
   "metadata": {},
   "outputs": [
    {
     "data": {
      "text/plain": [
       "{'/business/economy/news/3000-tonnes-hilsa-being-exported-india-3131626',\n",
       " '/business/economy/news/bb-hikes-key-interest-rate-25-basis-points-3131631',\n",
       " '/business/economy/news/bb-nod-must-nbfis-lend-subsidiaries-3131606',\n",
       " '/business/economy/news/bkash-distributes-50000-books-underprivileged-students-3131486',\n",
       " '/business/economy/news/citizens-bank-work-primary-dealer-3131586',\n",
       " '/business/economy/news/dcci-seeks-greater-market-access-turkey-3131571',\n",
       " '/business/economy/news/do-more-keep-financial-inclusion-momentum-going-3131596',\n",
       " '/business/economy/news/does-bangladesh-need-5g-now-3131591',\n",
       " '/business/economy/news/dvs-enhance-transparency-accounting-expert-3131496',\n",
       " '/business/economy/news/mcci-again-seeks-trade-licences-validity-extension-3131516',\n",
       " '/business/economy/news/meghna-ez-drawing-swiss-investment-3131601',\n",
       " '/business/economy/news/paper-processings-profit-surges-244pc-3131561',\n",
       " '/business/economy/news/php-launches-soundproof-glass-production-3131521',\n",
       " '/business/economy/news/progress-moderate-ending-child-labour-3131616',\n",
       " '/business/economy/news/rashid-re-elected-ibfb-president-3131506',\n",
       " '/business/economy/news/send-improved-varieties-tech-farmers-quickly-3131536',\n",
       " '/business/economy/news/solar-outage-may-disrupt-tv-broadcasting-3131621',\n",
       " '/business/economy/news/treatment-plant-opens-end-cepz-water-crisis-3131556',\n",
       " '/business/economy/stock/news/monospool-papers-profit-soars-over-343pc-3131576',\n",
       " '/business/economy/stock/news/turnover-drops-though-stocks-end-black-3131551',\n",
       " '/business/global-economy/europe/news/oil-price-rises-towards-90-3131526',\n",
       " '/business/global-economy/news/indias-forex-reserves-fall-further-3131531',\n",
       " '/business/global-economy/news/meta-includes-bangladesh-marketing-summit-3131491',\n",
       " '/business/telecom/news/btrc-gives-order-disconnect-316-isps-3131511',\n",
       " '/entertainment/theatre-arts/news/across-the-pages-himur-kolpito-diary-3131696',\n",
       " '/health/disease/coronavirus/fallouts-fightback/vaccine/news/set-vaccine-plant-fiscal-3131476',\n",
       " '/health/disease/coronavirus/news/2-covid-deaths-24hrs-positivity-rate-1353-3131451',\n",
       " '/life-living/travel/news/2-intl-flights-cancelled-ctg-airport-birds-enter-plane-engines-3131446',\n",
       " '/middle-east/news/mahsa-amini-protests-iran-targets-media-celebrities-3131701',\n",
       " '/news/asia/china/news/fish-fossils-offer-clues-human-evolution-3131401',\n",
       " '/news/asia/india/news/indias-sc-legalises-abortion-3131716',\n",
       " '/news/bangladesh/agriculture/news/sheikh-hasina-the-farmers-voice-3131481',\n",
       " '/news/bangladesh/crime-justice/news/3-robbers-killed-gunfight-between-gangs-3131661',\n",
       " '/news/bangladesh/crime-justice/news/9-sued-under-dsa-making-comments-ctg-mp-3131406',\n",
       " '/news/bangladesh/crime-justice/news/ac-transferred-assaulting-staffers-shoes-3131461',\n",
       " '/news/bangladesh/crime-justice/news/ansar-al-islam-its-sending-men-abroad-hide-collect-funds-3131441',\n",
       " '/news/bangladesh/crime-justice/news/british-national-found-dead-uttara-hotel-3131471',\n",
       " '/news/bangladesh/crime-justice/news/ex-bcl-leader-jail-hurting-religious-sentiment-3131431',\n",
       " '/news/bangladesh/crime-justice/news/if-not-his-watch-then-whose-3131361',\n",
       " '/news/bangladesh/crime-justice/news/not-abducted-she-went-hiding-3131391',\n",
       " '/news/bangladesh/crime-justice/news/one-gang-500-burglaries-3131541',\n",
       " '/news/bangladesh/crime-justice/news/probe-the-case-again-3131326',\n",
       " '/news/bangladesh/crime-justice/news/son-law-bangabandhus-killer-jailed-7-years-3131456',\n",
       " '/news/bangladesh/diplomacy/news/pm-visit-japan-likely-november-3131351',\n",
       " '/news/bangladesh/diplomacy/news/sanctions-stay-until-rab-accountable-reformed-3131426',\n",
       " '/news/bangladesh/news/bangladesh-moves-8-spots-un-e-government-development-index-2022-3131566',\n",
       " '/news/bangladesh/news/buying-faulty-scoreboard-js-body-slams-natl-sports-council-3131386',\n",
       " '/news/bangladesh/news/i-have-no-hard-feelings-you-all-stay-well-3131336',\n",
       " '/news/bangladesh/news/loadshedding-the-relief-assured-yet-materialise-3131366',\n",
       " '/news/bangladesh/news/myanmar-border-tension-no-illegal-entry-will-be-allowed-3131671',\n",
       " '/news/bangladesh/news/nightmare-khulna-road-3131651',\n",
       " '/news/bangladesh/news/research-must-be-engaging-speakers-3131641',\n",
       " '/news/bangladesh/news/reserves-stabilise-34-billion-3131656',\n",
       " '/news/bangladesh/news/threats-remain-were-alert-3131546',\n",
       " '/news/bangladesh/news/weak-banking-sector-threatens-growth-prospects-3131356',\n",
       " '/news/bangladesh/obituary/news/enamul-haq-passes-away-3131466',\n",
       " '/news/bangladesh/politics/news/caretaker-govt-forget-about-it-3131636',\n",
       " '/news/bangladesh/politics/news/code-conduct-hc-judge-accused-violating-it-3131381',\n",
       " '/news/bangladesh/politics/news/take-the-safe-exit-step-down-3131321',\n",
       " '/news/bangladesh/rights/news/human-rights-violations-cooperation-un-led-reprisals-3131666',\n",
       " '/news/bangladesh/rights/news/inclusion-key-ensuring-their-rights-3131646',\n",
       " '/news/bangladesh/rights/news/national-girl-child-day-no-country-our-daughters-3131581',\n",
       " '/news/world/2022-russian-invasion-ukraine/news/russia-set-annex-four-ukrainian-regions-today-3131416',\n",
       " '/news/world/usa/news/biden-foreign-policy-earns-higher-marks-europe-us-3131436',\n",
       " '/news/world/usa/news/us-declares-810m-new-funding-pacific-islands-3131711',\n",
       " '/round-tables/news/exploring-the-implementation-disability-inclusive-wash-policy-commitments-bangladesh-3131676',\n",
       " '/southeast-asia/news/post-coup-myanmar-suu-kyi-aussie-economist-jailed-3-years-3131706',\n",
       " '/sports/cricket/news/haris-rauf-warns-india-ahead-t20-wc-opener-3131721',\n",
       " '/sports/news/franchise-hockey-league-taking-shape-3131316',\n",
       " '/sports/news/golden-girls-celebrated-home-3131311',\n",
       " '/sports/news/neymar-swept-brazil-vote-battle-3131331',\n",
       " '/tech-startup/news/10-ted-talks-will-improve-your-career-prospects-3131376',\n",
       " '/tech-startup/news/samsung-galaxy-z-fold4-unfolding-grand-experience-3131411',\n",
       " '/tech-startup/news/the-grim-freelancing-reality-3131421',\n",
       " '/tech-startup/news/toyota-axio-or-honda-grace-which-one-should-you-go-3131396',\n",
       " '/toggle/news/perseverance-any-cost-3131371',\n",
       " '/world/europe/news/hurricane-ian-batters-florida-3131691',\n",
       " '/world/europe/news/online-hate-speech-fb-must-compensate-rohingyas-amnesty-3131686',\n",
       " '/youth/education/campus/news/allegations-raised-against-just-authorities-culling-18-dogs-3131611',\n",
       " '/youth/education/campus/news/protest-not-permitted-3131501'}"
      ]
     },
     "execution_count": 50,
     "metadata": {},
     "output_type": "execute_result"
    }
   ],
   "source": [
    "all_news"
   ]
  },
  {
   "cell_type": "code",
   "execution_count": 60,
   "metadata": {},
   "outputs": [],
   "source": [
    "# Finding all the front page urls\n",
    "front_page_urls = set()\n",
    "html = urlopen('https://www.thedailystar.net')\n",
    "bs = BeautifulSoup(html,'html.parser')\n",
    "for link in bs.findAll('a'):\n",
    "    if 'href' in link.attrs:\n",
    "        if link.attrs['href'] in all_news:\n",
    "            front_page_urls.add(link.attrs['href'])"
   ]
  },
  {
   "cell_type": "code",
   "execution_count": 61,
   "metadata": {},
   "outputs": [
    {
     "data": {
      "text/plain": [
       "{'/business/economy/news/3000-tonnes-hilsa-being-exported-india-3131626',\n",
       " '/business/economy/news/bb-hikes-key-interest-rate-25-basis-points-3131631',\n",
       " '/business/economy/news/bb-nod-must-nbfis-lend-subsidiaries-3131606',\n",
       " '/business/economy/news/citizens-bank-work-primary-dealer-3131586',\n",
       " '/business/economy/news/dcci-seeks-greater-market-access-turkey-3131571',\n",
       " '/business/economy/news/do-more-keep-financial-inclusion-momentum-going-3131596',\n",
       " '/business/economy/news/does-bangladesh-need-5g-now-3131591',\n",
       " '/business/economy/news/meghna-ez-drawing-swiss-investment-3131601',\n",
       " '/business/economy/news/paper-processings-profit-surges-244pc-3131561',\n",
       " '/business/economy/news/php-launches-soundproof-glass-production-3131521',\n",
       " '/business/economy/news/progress-moderate-ending-child-labour-3131616',\n",
       " '/business/economy/news/solar-outage-may-disrupt-tv-broadcasting-3131621',\n",
       " '/business/economy/stock/news/monospool-papers-profit-soars-over-343pc-3131576',\n",
       " '/entertainment/theatre-arts/news/across-the-pages-himur-kolpito-diary-3131696',\n",
       " '/life-living/travel/news/2-intl-flights-cancelled-ctg-airport-birds-enter-plane-engines-3131446',\n",
       " '/news/asia/china/news/fish-fossils-offer-clues-human-evolution-3131401',\n",
       " '/news/bangladesh/agriculture/news/sheikh-hasina-the-farmers-voice-3131481',\n",
       " '/news/bangladesh/crime-justice/news/9-sued-under-dsa-making-comments-ctg-mp-3131406',\n",
       " '/news/bangladesh/crime-justice/news/if-not-his-watch-then-whose-3131361',\n",
       " '/news/bangladesh/crime-justice/news/probe-the-case-again-3131326',\n",
       " '/news/bangladesh/diplomacy/news/pm-visit-japan-likely-november-3131351',\n",
       " '/news/bangladesh/news/bangladesh-moves-8-spots-un-e-government-development-index-2022-3131566',\n",
       " '/news/bangladesh/news/i-have-no-hard-feelings-you-all-stay-well-3131336',\n",
       " '/news/bangladesh/news/loadshedding-the-relief-assured-yet-materialise-3131366',\n",
       " '/news/bangladesh/news/nightmare-khulna-road-3131651',\n",
       " '/news/bangladesh/news/weak-banking-sector-threatens-growth-prospects-3131356',\n",
       " '/news/bangladesh/politics/news/take-the-safe-exit-step-down-3131321',\n",
       " '/news/bangladesh/rights/news/national-girl-child-day-no-country-our-daughters-3131581',\n",
       " '/news/world/usa/news/us-declares-810m-new-funding-pacific-islands-3131711',\n",
       " '/sports/cricket/news/haris-rauf-warns-india-ahead-t20-wc-opener-3131721',\n",
       " '/sports/news/franchise-hockey-league-taking-shape-3131316',\n",
       " '/sports/news/golden-girls-celebrated-home-3131311',\n",
       " '/sports/news/neymar-swept-brazil-vote-battle-3131331',\n",
       " '/tech-startup/news/samsung-galaxy-z-fold4-unfolding-grand-experience-3131411',\n",
       " '/tech-startup/news/the-grim-freelancing-reality-3131421',\n",
       " '/tech-startup/news/toyota-axio-or-honda-grace-which-one-should-you-go-3131396',\n",
       " '/youth/education/campus/news/allegations-raised-against-just-authorities-culling-18-dogs-3131611'}"
      ]
     },
     "execution_count": 61,
     "metadata": {},
     "output_type": "execute_result"
    }
   ],
   "source": [
    "front_page_urls"
   ]
  },
  {
   "cell_type": "code",
   "execution_count": null,
   "metadata": {},
   "outputs": [],
   "source": []
  }
 ],
 "metadata": {
  "kernelspec": {
   "display_name": "Python 3.10.4 ('scraper')",
   "language": "python",
   "name": "python3"
  },
  "language_info": {
   "codemirror_mode": {
    "name": "ipython",
    "version": 3
   },
   "file_extension": ".py",
   "mimetype": "text/x-python",
   "name": "python",
   "nbconvert_exporter": "python",
   "pygments_lexer": "ipython3",
   "version": "3.10.4"
  },
  "orig_nbformat": 4,
  "vscode": {
   "interpreter": {
    "hash": "831882acdd39c5e569d4df681c24108a0bde91ef8899ad37f748c4fa364b7d35"
   }
  }
 },
 "nbformat": 4,
 "nbformat_minor": 2
}
