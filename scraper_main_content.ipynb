{
 "cells": [
  {
   "cell_type": "code",
   "execution_count": 7,
   "metadata": {},
   "outputs": [],
   "source": [
    "from urllib.request import urlopen\n",
    "from bs4 import BeautifulSoup"
   ]
  },
  {
   "cell_type": "code",
   "execution_count": 8,
   "metadata": {},
   "outputs": [],
   "source": [
    "html = urlopen(\"https://www.thedailystar.com/news/local_news/otego-woman-dies-in-crash/article_944d784a-39a6-11ed-8602-2b7ef4267e87.html\")"
   ]
  },
  {
   "cell_type": "code",
   "execution_count": 9,
   "metadata": {},
   "outputs": [],
   "source": [
    "bs = BeautifulSoup(html,'html.parser')"
   ]
  },
  {
   "cell_type": "code",
   "execution_count": 10,
   "metadata": {},
   "outputs": [],
   "source": [
    "article_body = bs.find('div',{'id':'article-body'})"
   ]
  },
  {
   "cell_type": "code",
   "execution_count": 11,
   "metadata": {},
   "outputs": [],
   "source": [
    "paragraphs = article_body.find_all('p')"
   ]
  },
  {
   "cell_type": "code",
   "execution_count": 12,
   "metadata": {},
   "outputs": [],
   "source": [
    "article = \"\"\n",
    "for paragraph in paragraphs:\n",
    "    # print(paragraph.get_text())\n",
    "    article+=paragraph.get_text()"
   ]
  },
  {
   "cell_type": "code",
   "execution_count": 13,
   "metadata": {},
   "outputs": [
    {
     "data": {
      "text/plain": [
       "'Otego woman dies in crashState police said an Otego woman died in a one-vehicle crash Monday in Otego.According to a media release from State Police Troop C, troopers from the Oneonta station responded on Sept. 19 to a report of a serious one-vehicle crash on county Route 7 in the town of Otego.An investigation at the scene revealed that the operator and only occupant of a Hyundai Elantra was traveling north when she left the roadway and struck a tree. The driver was identified as Jennifer M. Thayer, 45.Thayer was transported to A.O. Fox Hospital in Oneonta, where she was pronounced dead, the release said.Schenevus man charged with rapeState Police announced the arrest of a Schenevus man on rape charges.According to a media release, troopers in the Oneonta Bureau of Criminal Investigation arrested Francesco Carotenuto, 56, and charged him with first-degree rape, a class B felony, on Saturday, Sept. 17.After an investigation, investigators learned that Carotenuto forcibly engaged in sexual intercourse with a victim several years ago, the release said.Carotenuto was previously arrested on Sept. 8, and charged with promoting a sexual performance by a child, a class D felony, and possessing a sexual performance by a child, a class E felony. He was also charged with seven counts of New York Agriculture and Market Law of overdriving, torturing, and injuring animals, a misdemeanor, after troopers found seven adult dogs on his property that did not have adequate food, water or shelter.Carotenuto was in jail for the previous charges. He was processed and returned to jail, the release said.'"
      ]
     },
     "execution_count": 13,
     "metadata": {},
     "output_type": "execute_result"
    }
   ],
   "source": [
    "article"
   ]
  },
  {
   "cell_type": "code",
   "execution_count": null,
   "metadata": {},
   "outputs": [],
   "source": []
  }
 ],
 "metadata": {
  "kernelspec": {
   "display_name": "Python 3.10.4 ('scraper')",
   "language": "python",
   "name": "python3"
  },
  "language_info": {
   "codemirror_mode": {
    "name": "ipython",
    "version": 3
   },
   "file_extension": ".py",
   "mimetype": "text/x-python",
   "name": "python",
   "nbconvert_exporter": "python",
   "pygments_lexer": "ipython3",
   "version": "3.10.4"
  },
  "orig_nbformat": 4,
  "vscode": {
   "interpreter": {
    "hash": "831882acdd39c5e569d4df681c24108a0bde91ef8899ad37f748c4fa364b7d35"
   }
  }
 },
 "nbformat": 4,
 "nbformat_minor": 2
}
