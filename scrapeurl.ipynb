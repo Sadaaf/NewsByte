{
 "cells": [
  {
   "cell_type": "code",
   "execution_count": 55,
   "metadata": {},
   "outputs": [],
   "source": [
    "from urllib.request import urlopen\n",
    "from bs4 import BeautifulSoup"
   ]
  },
  {
   "cell_type": "code",
   "execution_count": 56,
   "metadata": {},
   "outputs": [],
   "source": [
    "html = urlopen(\"https://www.thedailystar.com/\")"
   ]
  },
  {
   "cell_type": "code",
   "execution_count": 57,
   "metadata": {},
   "outputs": [],
   "source": [
    "bs = BeautifulSoup(html,'html.parser')"
   ]
  },
  {
   "cell_type": "code",
   "execution_count": 58,
   "metadata": {},
   "outputs": [],
   "source": [
    "card_labels = bs.find_all('div',{'class':'card-labels'})"
   ]
  },
  {
   "cell_type": "code",
   "execution_count": 59,
   "metadata": {},
   "outputs": [],
   "source": [
    "card_body = []\n",
    "for card in card_labels:\n",
    "    card_body.append(card.parent)"
   ]
  },
  {
   "cell_type": "code",
   "execution_count": 61,
   "metadata": {},
   "outputs": [
    {
     "name": "stdout",
     "output_type": "stream",
     "text": [
      "State News\n",
      "State News\n",
      "State News\n",
      "National\n",
      "National\n",
      "Local News\n",
      "Local News\n",
      "News\n",
      "News\n",
      "Local News\n",
      "Local Sports\n",
      "High School Sports\n",
      "Local Sports\n",
      "Local Sports\n",
      "College Sports\n",
      "High School Sports\n",
      "High School Sports\n",
      "Local Sports\n",
      "News\n",
      "Featured\n"
     ]
    }
   ],
   "source": [
    "# Finding all the NEWS TYPES\n",
    "for card in card_labels:\n",
    "    print(card.div.a.get_text())\n"
   ]
  },
  {
   "cell_type": "code",
   "execution_count": 69,
   "metadata": {},
   "outputs": [
    {
     "name": "stdout",
     "output_type": "stream",
     "text": [
      "Ian just shy of a Category 5 hurricane as it nears Florida\n",
      "Hold fire: Re-enactors fear being targeted by NY gun law\n",
      "Hurricane Ian rapidly intensifies off Florida's coast with maximum winds of 155 mph, just shy of a Category 5 hurricane\n",
      "Little League® Baseball Canada Partners with Stack Sports to Grow Participation\n",
      "Dosaggio by SottoPelle Partners with Cerbo\n",
      "Woman arrested for animal cruelty\n",
      "George Takei to speak at SUNY Oneonta\n",
      "Chamber hears update on cannabis licensing\n",
      "Book examines Bloomville's murderous past\n",
      "Otego woman dies in crash\n",
      "Area Sports Briefs\n",
      "Oneonta volleyball sweeps Norwich; Delhi, UV also win\n",
      "Sports Datebook: Sept. 28 and 29, 2022\n",
      "Finding the leftovers of a predator's feast\n",
      "SUNY Oneonta men's soccer defeat Buffalo State 2-0\n",
      "Schenevus, Unatego girls notch shutout wins\n",
      "Oneonta routs Seton Catholic in weather-shortened game\n",
      "Unadilla National 2022\n",
      "Week in Review: March 29-April 2. 2022\n",
      "Daily Star Focus: April 2-3, 2022\n"
     ]
    }
   ],
   "source": [
    "# Finding all the headlines\n",
    "for card in card_body:\n",
    "    print(card.find('div',{'class':'card-headline'}).get_text().strip())"
   ]
  },
  {
   "cell_type": "code",
   "execution_count": 71,
   "metadata": {},
   "outputs": [
    {
     "name": "stdout",
     "output_type": "stream",
     "text": [
      "/news/state/ian-just-shy-of-a-category-5-hurricane-as-it-nears-florida/article_5dde4765-261d-5d59-a7cd-6490ac90e361.html\n",
      "/news/state/hold-fire-re-enactors-fear-being-targeted-by-ny-gun-law/article_cd31db81-6aec-5355-b713-054eb3ff54fd.html\n",
      "/news/state/hurricane-ian-rapidly-intensifies-off-floridas-coast-with-maximum-winds-of-155-mph-just-shy/article_87f7bea7-a1b4-55b4-8c6f-c95382baa901.html\n",
      "/news/national/little-league-baseball-canada-partners-with-stack-sports-to-grow-participation/article_b1f856a6-e3ef-537f-af44-da7d6c3c3abe.html\n",
      "/news/national/dosaggio-by-sottopelle-partners-with-cerbo/article_a843e17e-0935-5b2a-9f96-5a9cd8c73c02.html\n",
      "/news/local_news/woman-arrested-for-animal-cruelty/article_2e34f5b8-3b7e-11ed-9cee-5796df42ab5c.html\n",
      "/news/local_news/george-takei-to-speak-at-suny-oneonta/article_c0c035f4-3b7a-11ed-bf2b-3fcfde3d01ad.html\n",
      "/news/chamber-hears-update-on-cannabis-licensing/article_cf1198ee-3a91-11ed-a391-f36fec33ac72.html\n",
      "/news/book-examines-bloomvilles-murderous-past/article_4bcbf4da-392d-11ed-8e93-5b21fb7fbb49.html\n",
      "/news/local_news/otego-woman-dies-in-crash/article_944d784a-39a6-11ed-8602-2b7ef4267e87.html\n",
      "/sports/local_sports/area-sports-briefs/article_a82474f6-3ed1-11ed-a5ac-2303bc3ecd8b.html\n",
      "/sports/high_school_sports/oneonta-volleyball-sweeps-norwich-delhi-uv-also-win/article_6438f25e-3ed0-11ed-ba5f-cb919e529c15.html\n",
      "/sports/local_sports/sports-datebook-sept-28-and-29-2022/article_de1e592c-3ec8-11ed-b257-4764d261eeb1.html\n",
      "/sports/local_sports/finding-the-leftovers-of-a-predators-feast/article_4547e888-3ec0-11ed-8f81-5f3e78545e70.html\n",
      "/sports/college_sports/suny-oneonta-mens-soccer-defeat-buffalo-state-2-0/article_39d2f3ee-3e07-11ed-8a76-77a84d8dd97f.html\n",
      "/sports/high_school_sports/schenevus-unatego-girls-notch-shutout-wins/article_e76a7bc2-3e06-11ed-b725-cf0f2e3f30a9.html\n",
      "/sports/high_school_sports/oneonta-routs-seton-catholic-in-weather-shortened-game/article_962ef9a4-3e06-11ed-b309-dbfbd868cf12.html\n",
      "/sports/local_sports/unadilla-national-2022/collection_da56349c-1cf7-11ed-9d96-efa66c6d5797.html\n",
      "/gallery/news/week-in-review-march-29-april-2-2022/collection_360ae10a-b1f2-11ec-9bcb-7306a521c3f8.html\n",
      "/gallery/featured/daily-star-focus-april-2-3-2022/collection_f54c0b5a-b1f4-11ec-916c-e73824a93f0c.html\n"
     ]
    }
   ],
   "source": [
    "# Finding all the urls\n",
    "for card in card_body:\n",
    "    print(card.find('div',{'class':'card-headline'}).a[\"href\"])"
   ]
  },
  {
   "cell_type": "code",
   "execution_count": null,
   "metadata": {},
   "outputs": [],
   "source": []
  }
 ],
 "metadata": {
  "kernelspec": {
   "display_name": "Python 3.10.4 ('scraper')",
   "language": "python",
   "name": "python3"
  },
  "language_info": {
   "codemirror_mode": {
    "name": "ipython",
    "version": 3
   },
   "file_extension": ".py",
   "mimetype": "text/x-python",
   "name": "python",
   "nbconvert_exporter": "python",
   "pygments_lexer": "ipython3",
   "version": "3.10.4"
  },
  "orig_nbformat": 4,
  "vscode": {
   "interpreter": {
    "hash": "831882acdd39c5e569d4df681c24108a0bde91ef8899ad37f748c4fa364b7d35"
   }
  }
 },
 "nbformat": 4,
 "nbformat_minor": 2
}
