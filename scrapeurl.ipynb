{
 "cells": [
  {
   "cell_type": "code",
   "execution_count": 1,
   "metadata": {},
   "outputs": [],
   "source": [
    "from urllib.request import urlopen\n",
    "from bs4 import BeautifulSoup"
   ]
  },
  {
   "cell_type": "code",
   "execution_count": 2,
   "metadata": {},
   "outputs": [],
   "source": [
    "html = urlopen(\"https://www.thedailystar.com/\")"
   ]
  },
  {
   "cell_type": "code",
   "execution_count": 3,
   "metadata": {},
   "outputs": [],
   "source": [
    "bs = BeautifulSoup(html,'html.parser')"
   ]
  },
  {
   "cell_type": "code",
   "execution_count": 4,
   "metadata": {},
   "outputs": [],
   "source": [
    "card_labels = bs.find_all('div',{'class':'card-labels'})"
   ]
  },
  {
   "cell_type": "code",
   "execution_count": 5,
   "metadata": {},
   "outputs": [],
   "source": [
    "card_body = []\n",
    "for card in card_labels:\n",
    "    card_body.append(card.parent)"
   ]
  },
  {
   "cell_type": "code",
   "execution_count": 6,
   "metadata": {},
   "outputs": [
    {
     "name": "stdout",
     "output_type": "stream",
     "text": [
      "National\n",
      "State News\n",
      "State News\n",
      "State News\n",
      "National\n",
      "Local News\n",
      "Local News\n",
      "News\n",
      "News\n",
      "Local News\n",
      "Local Sports\n",
      "High School Sports\n",
      "Local Sports\n",
      "Local Sports\n",
      "College Sports\n",
      "High School Sports\n",
      "High School Sports\n",
      "Local Sports\n",
      "News\n",
      "Featured\n"
     ]
    }
   ],
   "source": [
    "# Finding all the NEWS TYPES\n",
    "for card in card_labels:\n",
    "    print(card.div.a.get_text())\n"
   ]
  },
  {
   "cell_type": "code",
   "execution_count": 7,
   "metadata": {},
   "outputs": [
    {
     "name": "stdout",
     "output_type": "stream",
     "text": [
      "Stocks waver on Wall Street, U.K. bond yields fall back\n",
      "Do the 'Time Warp' again — 'Rocky Horror' show will travel\n",
      "Hurricane Ian nears Florida landfall with 155 mph winds\n",
      "Alzheimer's drug shows promise in early results of study\n",
      "How to Get into Your Locked iPhone 14 Without the Password: PassFab iPhone Unlocker\n",
      "Woman arrested for animal cruelty\n",
      "George Takei to speak at SUNY Oneonta\n",
      "Chamber hears update on cannabis licensing\n",
      "Book examines Bloomville's murderous past\n",
      "Otego woman dies in crash\n",
      "Area Sports Briefs\n",
      "Oneonta volleyball sweeps Norwich; Delhi, UV also win\n",
      "Sports Datebook: Sept. 28 and 29, 2022\n",
      "Finding the leftovers of a predator's feast\n",
      "SUNY Oneonta men's soccer defeat Buffalo State 2-0\n",
      "Schenevus, Unatego girls notch shutout wins\n",
      "Oneonta routs Seton Catholic in weather-shortened game\n",
      "Unadilla National 2022\n",
      "Week in Review: March 29-April 2. 2022\n",
      "Daily Star Focus: April 2-3, 2022\n"
     ]
    }
   ],
   "source": [
    "# Finding all the headlines\n",
    "for card in card_body:\n",
    "    print(card.find('div',{'class':'card-headline'}).get_text().strip())"
   ]
  },
  {
   "cell_type": "code",
   "execution_count": 8,
   "metadata": {},
   "outputs": [
    {
     "name": "stdout",
     "output_type": "stream",
     "text": [
      "/news/national/stocks-waver-on-wall-street-u-k-bond-yields-fall-back/article_d25382ef-a330-57ec-93d2-c81c8db2c0ea.html\n",
      "/news/state/do-the-time-warp-again-rocky-horror-show-will-travel/article_a3f39ccd-8e2f-5fde-94db-1dc2a2aafd70.html\n",
      "/news/state/hurricane-ian-nears-florida-landfall-with-155-mph-winds/article_5dde4765-261d-5d59-a7cd-6490ac90e361.html\n",
      "/news/state/alzheimers-drug-shows-promise-in-early-results-of-study/article_5eaa4262-7fe2-592c-9c08-bd04dbc87ed3.html\n",
      "/news/national/how-to-get-into-your-locked-iphone-14-without-the-password-passfab-iphone-unlocker/article_813b26e8-f12b-5452-83af-b719d281e9de.html\n",
      "/news/local_news/woman-arrested-for-animal-cruelty/article_2e34f5b8-3b7e-11ed-9cee-5796df42ab5c.html\n",
      "/news/local_news/george-takei-to-speak-at-suny-oneonta/article_c0c035f4-3b7a-11ed-bf2b-3fcfde3d01ad.html\n",
      "/news/chamber-hears-update-on-cannabis-licensing/article_cf1198ee-3a91-11ed-a391-f36fec33ac72.html\n",
      "/news/book-examines-bloomvilles-murderous-past/article_4bcbf4da-392d-11ed-8e93-5b21fb7fbb49.html\n",
      "/news/local_news/otego-woman-dies-in-crash/article_944d784a-39a6-11ed-8602-2b7ef4267e87.html\n",
      "/sports/local_sports/area-sports-briefs/article_a82474f6-3ed1-11ed-a5ac-2303bc3ecd8b.html\n",
      "/sports/high_school_sports/oneonta-volleyball-sweeps-norwich-delhi-uv-also-win/article_6438f25e-3ed0-11ed-ba5f-cb919e529c15.html\n",
      "/sports/local_sports/sports-datebook-sept-28-and-29-2022/article_de1e592c-3ec8-11ed-b257-4764d261eeb1.html\n",
      "/sports/local_sports/finding-the-leftovers-of-a-predators-feast/article_4547e888-3ec0-11ed-8f81-5f3e78545e70.html\n",
      "/sports/college_sports/suny-oneonta-mens-soccer-defeat-buffalo-state-2-0/article_39d2f3ee-3e07-11ed-8a76-77a84d8dd97f.html\n",
      "/sports/high_school_sports/schenevus-unatego-girls-notch-shutout-wins/article_e76a7bc2-3e06-11ed-b725-cf0f2e3f30a9.html\n",
      "/sports/high_school_sports/oneonta-routs-seton-catholic-in-weather-shortened-game/article_962ef9a4-3e06-11ed-b309-dbfbd868cf12.html\n",
      "/sports/local_sports/unadilla-national-2022/collection_da56349c-1cf7-11ed-9d96-efa66c6d5797.html\n",
      "/gallery/news/week-in-review-march-29-april-2-2022/collection_360ae10a-b1f2-11ec-9bcb-7306a521c3f8.html\n",
      "/gallery/featured/daily-star-focus-april-2-3-2022/collection_f54c0b5a-b1f4-11ec-916c-e73824a93f0c.html\n"
     ]
    }
   ],
   "source": [
    "# Finding all the urls\n",
    "for card in card_body:\n",
    "    print(card.find('div',{'class':'card-headline'}).a[\"href\"])"
   ]
  },
  {
   "cell_type": "code",
   "execution_count": null,
   "metadata": {},
   "outputs": [],
   "source": []
  }
 ],
 "metadata": {
  "kernelspec": {
   "display_name": "Python 3.10.4 ('scraper')",
   "language": "python",
   "name": "python3"
  },
  "language_info": {
   "codemirror_mode": {
    "name": "ipython",
    "version": 3
   },
   "file_extension": ".py",
   "mimetype": "text/x-python",
   "name": "python",
   "nbconvert_exporter": "python",
   "pygments_lexer": "ipython3",
   "version": "3.10.4"
  },
  "orig_nbformat": 4,
  "vscode": {
   "interpreter": {
    "hash": "831882acdd39c5e569d4df681c24108a0bde91ef8899ad37f748c4fa364b7d35"
   }
  }
 },
 "nbformat": 4,
 "nbformat_minor": 2
}
