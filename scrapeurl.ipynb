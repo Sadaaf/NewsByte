{
 "cells": [
  {
   "cell_type": "code",
   "execution_count": 1,
   "metadata": {},
   "outputs": [],
   "source": [
    "from urllib.request import urlopen\n",
    "from bs4 import BeautifulSoup"
   ]
  },
  {
   "cell_type": "code",
   "execution_count": 2,
   "metadata": {},
   "outputs": [],
   "source": [
    "html = urlopen(\"https://www.thedailystar.com/\")"
   ]
  },
  {
   "cell_type": "code",
   "execution_count": 3,
   "metadata": {},
   "outputs": [],
   "source": [
    "bs = BeautifulSoup(html,'html.parser')"
   ]
  },
  {
   "cell_type": "code",
   "execution_count": 4,
   "metadata": {},
   "outputs": [],
   "source": [
    "card_labels = bs.find_all('div',{'class':'card-labels'})"
   ]
  },
  {
   "cell_type": "code",
   "execution_count": 5,
   "metadata": {},
   "outputs": [],
   "source": [
    "card_body = []\n",
    "for card in card_labels:\n",
    "    card_body.append(card.parent)"
   ]
  },
  {
   "cell_type": "code",
   "execution_count": 6,
   "metadata": {},
   "outputs": [
    {
     "name": "stdout",
     "output_type": "stream",
     "text": [
      "State News\n",
      "National\n",
      "State News\n",
      "State News\n",
      "State News\n",
      "Local News\n",
      "Local News\n",
      "Local News\n",
      "Local News\n",
      "Local News\n",
      "High School Sports\n",
      "Local Sports\n",
      "Local Sports\n",
      "High School Sports\n",
      "Local Sports\n",
      "Local Sports\n",
      "College Sports\n",
      "Local Sports\n",
      "News\n",
      "Featured\n"
     ]
    }
   ],
   "source": [
    "# Finding all the NEWS TYPES\n",
    "for card in card_labels:\n",
    "    print(card.div.a.get_text())\n"
   ]
  },
  {
   "cell_type": "code",
   "execution_count": 7,
   "metadata": {},
   "outputs": [
    {
     "name": "stdout",
     "output_type": "stream",
     "text": [
      "People trapped, hospital damaged after Ian swamps SW Florida\n",
      "Today in History: September 29, Pope John Paul I found dead\n",
      "Chinese tycoon Richard Liu faces civil trial in alleged rape\n",
      "'Gangsta's Paradise' rapper Coolio dies at age 59\n",
      "Ian swamps southwest Florida, trapping people in homes\n",
      "Norwich man charged with attempted murder\n",
      "Sheriff names suspect in animal abuse case\n",
      "Woman arrested for animal cruelty\n",
      "George Takei to speak at SUNY Oneonta\n",
      "Otego woman dies in crash\n",
      "Big first half helps Oneonta boys top Susquehanna Valley 6-2\n",
      "Sports Datebook: Sept. 29 and 30, 2022\n",
      "Area Sports Briefs\n",
      "Oneonta volleyball sweeps Norwich; Delhi, UV also win\n",
      "Sports Datebook: Sept. 28 and 29, 2022\n",
      "Finding the leftovers of a predator's feast\n",
      "SUNY Oneonta men's soccer defeat Buffalo State 2-0\n",
      "Unadilla National 2022\n",
      "Week in Review: March 29-April 2. 2022\n",
      "Daily Star Focus: April 2-3, 2022\n"
     ]
    }
   ],
   "source": [
    "# Finding all the headlines\n",
    "for card in card_body:\n",
    "    print(card.find('div',{'class':'card-headline'}).get_text().strip())"
   ]
  },
  {
   "cell_type": "code",
   "execution_count": 8,
   "metadata": {},
   "outputs": [
    {
     "name": "stdout",
     "output_type": "stream",
     "text": [
      "/news/state/people-trapped-hospital-damaged-after-ian-swamps-sw-florida/article_5168ee16-26b6-5ab6-b830-ba9601a2923e.html\n",
      "/news/national/today-in-history-september-29-pope-john-paul-i-found-dead/article_b9b782ab-32a9-509d-86eb-a381cb49742d.html\n",
      "/news/state/chinese-tycoon-richard-liu-faces-civil-trial-in-alleged-rape/article_81de3ecd-05a3-5751-9d6f-2c1c291b18d2.html\n",
      "/news/state/gangstas-paradise-rapper-coolio-dies-at-age-59/article_f2f37861-f8f6-5cc9-9e2a-2b687e45e64f.html\n",
      "/news/state/ian-swamps-southwest-florida-trapping-people-in-homes/article_5dde4765-261d-5d59-a7cd-6490ac90e361.html\n",
      "/news/local_news/norwich-man-charged-with-attempted-murder/article_38624d0c-3f6a-11ed-a9e7-af4dd2f7143b.html\n",
      "/news/local_news/sheriff-names-suspect-in-animal-abuse-case/article_c1a9609a-3f5c-11ed-b5a7-abd22059a706.html\n",
      "/news/local_news/woman-arrested-for-animal-cruelty/article_2e34f5b8-3b7e-11ed-9cee-5796df42ab5c.html\n",
      "/news/local_news/george-takei-to-speak-at-suny-oneonta/article_c0c035f4-3b7a-11ed-bf2b-3fcfde3d01ad.html\n",
      "/news/local_news/otego-woman-dies-in-crash/article_944d784a-39a6-11ed-8602-2b7ef4267e87.html\n",
      "/sports/high_school_sports/big-first-half-helps-oneonta-boys-top-susquehanna-valley-6-2/article_ef9c9dd2-3f98-11ed-95d2-d7e5dca09d05.html\n",
      "/sports/local_sports/sports-datebook-sept-29-and-30-2022/article_0079d72a-3f92-11ed-9a20-2b3a2cf9626a.html\n",
      "/sports/local_sports/area-sports-briefs/article_a82474f6-3ed1-11ed-a5ac-2303bc3ecd8b.html\n",
      "/sports/high_school_sports/oneonta-volleyball-sweeps-norwich-delhi-uv-also-win/article_6438f25e-3ed0-11ed-ba5f-cb919e529c15.html\n",
      "/sports/local_sports/sports-datebook-sept-28-and-29-2022/article_de1e592c-3ec8-11ed-b257-4764d261eeb1.html\n",
      "/sports/local_sports/finding-the-leftovers-of-a-predators-feast/article_4547e888-3ec0-11ed-8f81-5f3e78545e70.html\n",
      "/sports/college_sports/suny-oneonta-mens-soccer-defeat-buffalo-state-2-0/article_39d2f3ee-3e07-11ed-8a76-77a84d8dd97f.html\n",
      "/sports/local_sports/unadilla-national-2022/collection_da56349c-1cf7-11ed-9d96-efa66c6d5797.html\n",
      "/gallery/news/week-in-review-march-29-april-2-2022/collection_360ae10a-b1f2-11ec-9bcb-7306a521c3f8.html\n",
      "/gallery/featured/daily-star-focus-april-2-3-2022/collection_f54c0b5a-b1f4-11ec-916c-e73824a93f0c.html\n"
     ]
    }
   ],
   "source": [
    "# Finding all the urls\n",
    "for card in card_body:\n",
    "    print(card.find('div',{'class':'card-headline'}).a[\"href\"])"
   ]
  },
  {
   "cell_type": "code",
   "execution_count": null,
   "metadata": {},
   "outputs": [],
   "source": []
  }
 ],
 "metadata": {
  "kernelspec": {
   "display_name": "Python 3.10.4 ('scraper')",
   "language": "python",
   "name": "python3"
  },
  "language_info": {
   "codemirror_mode": {
    "name": "ipython",
    "version": 3
   },
   "file_extension": ".py",
   "mimetype": "text/x-python",
   "name": "python",
   "nbconvert_exporter": "python",
   "pygments_lexer": "ipython3",
   "version": "3.10.4"
  },
  "orig_nbformat": 4,
  "vscode": {
   "interpreter": {
    "hash": "831882acdd39c5e569d4df681c24108a0bde91ef8899ad37f748c4fa364b7d35"
   }
  }
 },
 "nbformat": 4,
 "nbformat_minor": 2
}
